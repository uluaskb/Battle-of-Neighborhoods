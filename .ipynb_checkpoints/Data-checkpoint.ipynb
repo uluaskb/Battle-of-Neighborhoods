{
 "cells": [
  {
   "cell_type": "markdown",
   "metadata": {},
   "source": [
    "<img alt=\"London picture\" src=\"https://images.unsplash.com/photo-1468407161946-009af5afe6a6?ixlib=rb-1.2.1&ixid=eyJhcHBfaWQiOjEyMDd9&auto=format&fit=crop&w=3340&q=80\" width=\"%40\" height=\"%30\"/>"
   ]
  },
  {
   "cell_type": "markdown",
   "metadata": {},
   "source": [
    "# Dog friendly London Neighbourhoods\n",
    "\n",
    "## A. Introduction :\n",
    "\n",
    "   Trying to make a move to London with pets will require good planning and some research. London is a sprawling metropolis and whilst all the main tourist attractions are fairly close to each other, the surrounding areas make for a large and, to those who’re not familiar with the city, somewhat confusing location. \n",
    "\n",
    "Many rental properties do not accept pets; pet-friendly rentals in London are limited and tend to get snapped up pretty quickly. In order to succeed in your search you need to focus on certain neighbourhoods.\n",
    "\n",
    "## B. Objective: \n",
    "\n",
    "In this project my objective is to segment areas of London based on the below criteria:\n",
    "\n",
    "* Park within 500 meter\n",
    "* Supermarket within 500 meter  \n",
    "* Commuting duration to Bank station\n",
    "* Crime rates\n",
    "* Rent prices\n",
    "\n"
   ]
  },
  {
   "cell_type": "markdown",
   "metadata": {},
   "source": [
    "## C. Data\n",
    "\n",
    "### Location\n",
    "The first thing to understand about London is how the different areas are described.  There are **33** boroughs of London, each with their own infrastructure, local government, council and highly individual feel and identity.  These boroughs are then further broken down into what are known as ‘**postcodes**’.  Each postcode begins with one or two letters, followed by a one or two digit number.  This code identifies a particular area within a borough, and is then followed by another number-letter-letter combination that identifies a particular area in a street.\n",
    "\n",
    ">**Data source:** London data store - Greater London Authority  \n",
    "**Source link:** https://data.london.gov.uk/dataset/postcode-directory-for-london  \n",
    "**Data details:** Postcode, Latitude, Longtitude, LSOA*  \n",
    "(* *A Lower Layer Super Output Area (LSOA) is a geographic area. Lower Layer Super Output Areas are a geographic hierarchy designed to improve the reporting of small area statistics in England and Wales.*)\n",
    "\n",
    "### Segmentation criterias: \n",
    "In addition to location data, I used the following resources:\n",
    "\n",
    "#### Parks\n",
    ">**Data source:** Foursquare API  \n",
    "**Foursquare Category Id:** 4bf58dd8d48988d163941735  \n",
    "**Data details:**  Number of parks within 500 meters\n",
    "\n",
    "#### Supermarkets\n",
    ">**Data source:** Foursquare API  \n",
    "**Foursquare Category Id:** Supermarket :52f2ab2ebcbc57f1066b8b46 , Grocery store: 4bf58dd8d48988d118951735, Market: 50be8ee891d4fa8dcc7199a7  \n",
    "**Data details:** Number of parks within 500 meters\n",
    "\n",
    "#### Commuting duration to Bank station\n",
    ">**Data source:** London data store , Greater London Authority   \n",
    "**Source link:** https://data.london.gov.uk/download/mylondon/c2e9ebc1-935b-460c-9361-293398d84fe5/MyLondon_traveltime_to_Bank_station_OA.csv  \n",
    "**Data details:** Commuting duration per each LSOA\n",
    "\n",
    "#### Crime statistics\n",
    ">**Data source:** London data store , Greater London Authority   \n",
    "**Source link:** https://data.london.gov.uk/dataset/recorded_crime_summary  \n",
    "**Data details:**  MPS Borough Level Crime (most recent 24 months) , MPS LSOA Level Crime (most recent 24 months) \n",
    "\n",
    "#### Population statistics\n",
    ">**Data source:** London data store , Greater London Authority  \n",
    "**Source link:** https://data.london.gov.uk/dataset/lsoa-atlas  \n",
    "**Data details:**  LSOA Level population data to calculate crime rate per population ,Current LSOA boundaries post 2011\n",
    "\n",
    "#### Rent prices\n",
    ">**Data source:** Valuation Office Agency  \n",
    "**Source link:** https://www.gov.uk/government/publications/private-rental-market-in-london-october-2018-to-september-2019  \n",
    "**Data details:** The data on average rents is given at postcode district level (SW19 or E7, for example), and is based on a sample covering the last 12 months. Post code: (only borough code) ,Bedroom category :  room, studio,1,2,3,4+\n",
    "\n"
   ]
  }
 ],
 "metadata": {
  "kernelspec": {
   "display_name": "Python 3",
   "language": "python",
   "name": "python3"
  },
  "language_info": {
   "codemirror_mode": {
    "name": "ipython",
    "version": 3
   },
   "file_extension": ".py",
   "mimetype": "text/x-python",
   "name": "python",
   "nbconvert_exporter": "python",
   "pygments_lexer": "ipython3",
   "version": "3.7.3"
  }
 },
 "nbformat": 4,
 "nbformat_minor": 2
}
